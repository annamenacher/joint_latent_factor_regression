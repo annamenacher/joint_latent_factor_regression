{
 "cells": [
  {
   "cell_type": "code",
   "execution_count": 15,
   "metadata": {},
   "outputs": [],
   "source": [
    "# Libraries\n",
    "import pandas as pd\n",
    "import numpy as np"
   ]
  },
  {
   "cell_type": "code",
   "execution_count": 16,
   "metadata": {},
   "outputs": [],
   "source": [
    "# Attempt #5: without priors"
   ]
  },
  {
   "cell_type": "code",
   "execution_count": 84,
   "metadata": {},
   "outputs": [],
   "source": [
    "# Data\n",
    "np.random.seed(123)\n",
    "path_input = '/Users/annamenacher/Desktop/CDT/'\n",
    "Lambda = pd.read_csv(path_input + 'LAMBDAn1500k50sim1.1', header = None)\n",
    "beta = pd.read_csv(path_input + 'model_beta_bass_N1000.csv')\n",
    "p=1803\n",
    "v=5\n",
    "n = 100\n",
    "k = int(len(Lambda)/ p)\n",
    "Lambda = Lambda.values.reshape(p,k)\n",
    "beta = beta.values.reshape(k,1)\n",
    "Z = np.random.normal(0,1, (n,k))\n",
    "X = np.dot(Z, Lambda.T)\n",
    "y = np.dot(Z, beta)"
   ]
  },
  {
   "cell_type": "code",
   "execution_count": 85,
   "metadata": {},
   "outputs": [],
   "source": [
    "# Constants, dimensions, ...\n",
    "eps = 0.1\n",
    "n = 100\n",
    "p = 1803\n",
    "k = 50\n",
    "v = 5\n",
    "\n",
    "outer_prod_X = np.zeros(p * p).reshape(p,p)\n",
    "sum_y_squared = 0\n",
    "for i in range(n):\n",
    "    outer_prod_X += np.dot(X[i,].reshape(p,1), X[i,].reshape(p,1).T)\n",
    "    sum_y_squared += y[i,]**2\n",
    "sum_y_squared = sum_y_squared.reshape(1,1)"
   ]
  },
  {
   "cell_type": "code",
   "execution_count": 86,
   "metadata": {},
   "outputs": [],
   "source": [
    "# Initialisations\n",
    "Lambda = np.random.normal(0,1, (p,k))\n",
    "beta = np.random.normal(0,1, (k,1))\n",
    "Sigma_x = np.diag(np.random.uniform(0,100,p))\n",
    "sigma_y = 100\n",
    "\n",
    "theta0 = [Lambda, beta, Sigma_x, sigma_y]"
   ]
  },
  {
   "cell_type": "code",
   "execution_count": 64,
   "metadata": {},
   "outputs": [],
   "source": [
    "# Blockwise Inversion\n",
    "def blockwise_inversion(A, B, C, D):\n",
    "    '''\n",
    "    Returns the four elements of a matrix after blockwise inversion with the following formula:\n",
    "    https://en.wikipedia.org/wiki/Invertible_matrix#math_1\n",
    "\n",
    "            Inputs:\n",
    "                    A (pxp) (numpy array): Sigma_x + Lambda * Lambda.T\n",
    "                    B (px1) (numpy array): Lambda * beta\n",
    "                    C (1xp) (numpy array): (Lambda * beta).T\n",
    "                    D (1x1) (numpy array): sigma_y + beta.T * beta\n",
    "\n",
    "            Returns:\n",
    "                    A, B, C, D ((pxp), (px1), (1xp), (1x1)) (numpy array): \n",
    "                    Matrices after blockwise inversion.\n",
    "    '''\n",
    "    \n",
    "    A_Inv = np.linalg.pinv(A)\n",
    "    AB = np.dot(A_Inv, B)\n",
    "    CA = np.dot(C, A_Inv)\n",
    "    DCAB = np.linalg.pinv(D - np.dot(CA, B))\n",
    "    \n",
    "    A = A_Inv + np.dot(np.dot(AB, DCAB), CA)\n",
    "    B = - np.dot(AB, DCAB)\n",
    "    C = - np.dot(DCAB, CA)\n",
    "    D = DCAB\n",
    "    \n",
    "    return A, B, C, D"
   ]
  },
  {
   "cell_type": "code",
   "execution_count": 14,
   "metadata": {},
   "outputs": [
    {
     "name": "stdout",
     "output_type": "stream",
     "text": [
      "1\n"
     ]
    },
    {
     "name": "stderr",
     "output_type": "stream",
     "text": [
      "/Users/annamenacher/anaconda3/lib/python3.7/site-packages/ipykernel_launcher.py:63: RuntimeWarning: divide by zero encountered in log\n"
     ]
    },
    {
     "ename": "LinAlgError",
     "evalue": "Singular matrix",
     "output_type": "error",
     "traceback": [
      "\u001b[0;31m---------------------------------------------------------------------------\u001b[0m",
      "\u001b[0;31mLinAlgError\u001b[0m                               Traceback (most recent call last)",
      "\u001b[0;32m<ipython-input-14-032084e0f299>\u001b[0m in \u001b[0;36m<module>\u001b[0;34m\u001b[0m\n\u001b[1;32m     62\u001b[0m     \u001b[0;32mfor\u001b[0m \u001b[0ml\u001b[0m \u001b[0;32min\u001b[0m \u001b[0mrange\u001b[0m\u001b[0;34m(\u001b[0m\u001b[0mp\u001b[0m\u001b[0;34m)\u001b[0m\u001b[0;34m:\u001b[0m\u001b[0;34m\u001b[0m\u001b[0;34m\u001b[0m\u001b[0m\n\u001b[1;32m     63\u001b[0m         \u001b[0mlog_det_Sigma_x\u001b[0m \u001b[0;34m+=\u001b[0m \u001b[0mnp\u001b[0m\u001b[0;34m.\u001b[0m\u001b[0mlog\u001b[0m\u001b[0;34m(\u001b[0m\u001b[0mSigma_x\u001b[0m\u001b[0;34m[\u001b[0m\u001b[0ml\u001b[0m\u001b[0;34m,\u001b[0m\u001b[0ml\u001b[0m\u001b[0;34m]\u001b[0m\u001b[0;34m)\u001b[0m\u001b[0;34m\u001b[0m\u001b[0;34m\u001b[0m\u001b[0m\n\u001b[0;32m---> 64\u001b[0;31m     \u001b[0mSigma_x_inv\u001b[0m \u001b[0;34m=\u001b[0m \u001b[0mnp\u001b[0m\u001b[0;34m.\u001b[0m\u001b[0mlinalg\u001b[0m\u001b[0;34m.\u001b[0m\u001b[0minv\u001b[0m\u001b[0;34m(\u001b[0m\u001b[0mSigma_x\u001b[0m\u001b[0;34m)\u001b[0m\u001b[0;34m\u001b[0m\u001b[0;34m\u001b[0m\u001b[0m\n\u001b[0m\u001b[1;32m     65\u001b[0m     \u001b[0mQ\u001b[0m \u001b[0;34m=\u001b[0m \u001b[0;34m-\u001b[0m\u001b[0;34m(\u001b[0m\u001b[0mn\u001b[0m\u001b[0;34m/\u001b[0m\u001b[0;36m2\u001b[0m\u001b[0;34m)\u001b[0m \u001b[0;34m*\u001b[0m \u001b[0mlog_det_Sigma_x\u001b[0m \u001b[0;34m-\u001b[0m \u001b[0;34m(\u001b[0m\u001b[0;36m1\u001b[0m\u001b[0;34m/\u001b[0m\u001b[0;36m2\u001b[0m\u001b[0;34m)\u001b[0m \u001b[0;34m*\u001b[0m \u001b[0mnp\u001b[0m\u001b[0;34m.\u001b[0m\u001b[0mtrace\u001b[0m\u001b[0;34m(\u001b[0m\u001b[0mnp\u001b[0m\u001b[0;34m.\u001b[0m\u001b[0mdot\u001b[0m\u001b[0;34m(\u001b[0m\u001b[0mSigma_x_inv\u001b[0m\u001b[0;34m,\u001b[0m \u001b[0mprod1\u001b[0m\u001b[0;34m)\u001b[0m\u001b[0;34m)\u001b[0m \u001b[0;34m-\u001b[0m \u001b[0;34m(\u001b[0m\u001b[0mn\u001b[0m\u001b[0;34m/\u001b[0m\u001b[0;36m2\u001b[0m\u001b[0;34m)\u001b[0m\u001b[0;34m*\u001b[0m \u001b[0mnp\u001b[0m\u001b[0;34m.\u001b[0m\u001b[0mlog\u001b[0m\u001b[0;34m(\u001b[0m\u001b[0msigma_y\u001b[0m\u001b[0;34m)\u001b[0m \u001b[0;34m-\u001b[0m \u001b[0;34m(\u001b[0m\u001b[0;36m1\u001b[0m\u001b[0;34m/\u001b[0m\u001b[0;36m2\u001b[0m\u001b[0;34m)\u001b[0m \u001b[0;34m*\u001b[0m \u001b[0mn\u001b[0m \u001b[0;34m*\u001b[0m \u001b[0msigma_y\u001b[0m \u001b[0;34m-\u001b[0m \u001b[0;34m(\u001b[0m\u001b[0;36m1\u001b[0m\u001b[0;34m/\u001b[0m\u001b[0;36m2\u001b[0m\u001b[0;34m)\u001b[0m \u001b[0;34m*\u001b[0m \u001b[0mnp\u001b[0m\u001b[0;34m.\u001b[0m\u001b[0mtrace\u001b[0m\u001b[0;34m(\u001b[0m\u001b[0msum_exp_zz\u001b[0m\u001b[0;34m)\u001b[0m\u001b[0;34m\u001b[0m\u001b[0;34m\u001b[0m\u001b[0m\n\u001b[1;32m     66\u001b[0m     \u001b[0mprint\u001b[0m\u001b[0;34m(\u001b[0m\u001b[0mQ\u001b[0m\u001b[0;34m)\u001b[0m\u001b[0;34m\u001b[0m\u001b[0;34m\u001b[0m\u001b[0m\n",
      "\u001b[0;32m<__array_function__ internals>\u001b[0m in \u001b[0;36minv\u001b[0;34m(*args, **kwargs)\u001b[0m\n",
      "\u001b[0;32m~/anaconda3/lib/python3.7/site-packages/numpy/linalg/linalg.py\u001b[0m in \u001b[0;36minv\u001b[0;34m(a)\u001b[0m\n\u001b[1;32m    545\u001b[0m     \u001b[0msignature\u001b[0m \u001b[0;34m=\u001b[0m \u001b[0;34m'D->D'\u001b[0m \u001b[0;32mif\u001b[0m \u001b[0misComplexType\u001b[0m\u001b[0;34m(\u001b[0m\u001b[0mt\u001b[0m\u001b[0;34m)\u001b[0m \u001b[0;32melse\u001b[0m \u001b[0;34m'd->d'\u001b[0m\u001b[0;34m\u001b[0m\u001b[0;34m\u001b[0m\u001b[0m\n\u001b[1;32m    546\u001b[0m     \u001b[0mextobj\u001b[0m \u001b[0;34m=\u001b[0m \u001b[0mget_linalg_error_extobj\u001b[0m\u001b[0;34m(\u001b[0m\u001b[0m_raise_linalgerror_singular\u001b[0m\u001b[0;34m)\u001b[0m\u001b[0;34m\u001b[0m\u001b[0;34m\u001b[0m\u001b[0m\n\u001b[0;32m--> 547\u001b[0;31m     \u001b[0mainv\u001b[0m \u001b[0;34m=\u001b[0m \u001b[0m_umath_linalg\u001b[0m\u001b[0;34m.\u001b[0m\u001b[0minv\u001b[0m\u001b[0;34m(\u001b[0m\u001b[0ma\u001b[0m\u001b[0;34m,\u001b[0m \u001b[0msignature\u001b[0m\u001b[0;34m=\u001b[0m\u001b[0msignature\u001b[0m\u001b[0;34m,\u001b[0m \u001b[0mextobj\u001b[0m\u001b[0;34m=\u001b[0m\u001b[0mextobj\u001b[0m\u001b[0;34m)\u001b[0m\u001b[0;34m\u001b[0m\u001b[0;34m\u001b[0m\u001b[0m\n\u001b[0m\u001b[1;32m    548\u001b[0m     \u001b[0;32mreturn\u001b[0m \u001b[0mwrap\u001b[0m\u001b[0;34m(\u001b[0m\u001b[0mainv\u001b[0m\u001b[0;34m.\u001b[0m\u001b[0mastype\u001b[0m\u001b[0;34m(\u001b[0m\u001b[0mresult_t\u001b[0m\u001b[0;34m,\u001b[0m \u001b[0mcopy\u001b[0m\u001b[0;34m=\u001b[0m\u001b[0;32mFalse\u001b[0m\u001b[0;34m)\u001b[0m\u001b[0;34m)\u001b[0m\u001b[0;34m\u001b[0m\u001b[0;34m\u001b[0m\u001b[0m\n\u001b[1;32m    549\u001b[0m \u001b[0;34m\u001b[0m\u001b[0m\n",
      "\u001b[0;32m~/anaconda3/lib/python3.7/site-packages/numpy/linalg/linalg.py\u001b[0m in \u001b[0;36m_raise_linalgerror_singular\u001b[0;34m(err, flag)\u001b[0m\n\u001b[1;32m     95\u001b[0m \u001b[0;34m\u001b[0m\u001b[0m\n\u001b[1;32m     96\u001b[0m \u001b[0;32mdef\u001b[0m \u001b[0m_raise_linalgerror_singular\u001b[0m\u001b[0;34m(\u001b[0m\u001b[0merr\u001b[0m\u001b[0;34m,\u001b[0m \u001b[0mflag\u001b[0m\u001b[0;34m)\u001b[0m\u001b[0;34m:\u001b[0m\u001b[0;34m\u001b[0m\u001b[0;34m\u001b[0m\u001b[0m\n\u001b[0;32m---> 97\u001b[0;31m     \u001b[0;32mraise\u001b[0m \u001b[0mLinAlgError\u001b[0m\u001b[0;34m(\u001b[0m\u001b[0;34m\"Singular matrix\"\u001b[0m\u001b[0;34m)\u001b[0m\u001b[0;34m\u001b[0m\u001b[0;34m\u001b[0m\u001b[0m\n\u001b[0m\u001b[1;32m     98\u001b[0m \u001b[0;34m\u001b[0m\u001b[0m\n\u001b[1;32m     99\u001b[0m \u001b[0;32mdef\u001b[0m \u001b[0m_raise_linalgerror_nonposdef\u001b[0m\u001b[0;34m(\u001b[0m\u001b[0merr\u001b[0m\u001b[0;34m,\u001b[0m \u001b[0mflag\u001b[0m\u001b[0;34m)\u001b[0m\u001b[0;34m:\u001b[0m\u001b[0;34m\u001b[0m\u001b[0;34m\u001b[0m\u001b[0m\n",
      "\u001b[0;31mLinAlgError\u001b[0m: Singular matrix"
     ]
    }
   ],
   "source": [
    "# EM-Algorithm \n",
    "num_iter = 0\n",
    "diff = 1000\n",
    "Lambda = theta0[0]\n",
    "beta = theta0[1]\n",
    "Sigma_x = theta0[2]\n",
    "sigma_y = theta0[3]\n",
    "Q = 0\n",
    "\n",
    "while diff>eps:\n",
    "    \n",
    "    num_iter = num_iter + 1\n",
    "    print(num_iter)\n",
    "    Lambda_old = Lambda\n",
    "    beta_old = beta\n",
    "    Sigma_x_old = Sigma_x\n",
    "    sigma_y_old = sigma_y\n",
    "    Q_old = Q\n",
    "    \n",
    "    # E-step \n",
    "    A = (Sigma_x_old) + np.dot(Lambda_old, Lambda_old.T)\n",
    "    B = np.dot(Lambda_old, beta_old)\n",
    "    C = (np.dot(Lambda_old, beta_old)).T\n",
    "    D = (sigma_y_old) + np.dot(beta_old.T, beta_old)\n",
    "\n",
    "    A, B, C, D = blockwise_inversion(A, B, C, D)\n",
    "    part1 = np.dot(Lambda_old.T, A) + np.dot(beta_old, C)\n",
    "    part2 = np.dot(Lambda_old.T, B) + np.dot(beta_old, D)\n",
    "    part3 = np.dot(part1, Lambda_old) + np.dot(part2, beta_old.T)\n",
    "\n",
    "    sum_exp_xz = np.zeros(p * k).reshape(p,k)\n",
    "    sum_exp_zx = np.zeros(p * k).reshape(k,p)\n",
    "    sum_exp_yz = np.zeros(k).reshape(k,1)\n",
    "    sum_exp_zz = np.zeros(k * k).reshape(k,k)\n",
    "\n",
    "    for i in range(n):\n",
    "\n",
    "        exp_z = np.dot(part1, X[i,].reshape(p,1)) + np.dot(part2, y[i,].reshape(1,1))\n",
    "        sum_exp_xz += np.dot(X[i,].reshape(p,1), exp_z.T)\n",
    "        sum_exp_zx += np.dot(exp_z, X[i,].reshape(p,1).T)\n",
    "        sum_exp_yz += np.dot(exp_z, y[i,].reshape(1,1))\n",
    "        sum_exp_zz += np.dot(exp_z, exp_z.T)\n",
    "\n",
    "    sum_exp_zz += n * np.diag(np.ones(k)) - n * part3 \n",
    "    \n",
    "    # Pre-computed quantities \n",
    "    sum_exp_zz_inv = np.linalg.inv(sum_exp_zz)\n",
    "    # M-step: Lambda\n",
    "    Lambda = np.dot(sum_exp_xz, sum_exp_zz_inv)\n",
    "    # M-step: beta \n",
    "    beta = np.dot(sum_exp_yz.T, sum_exp_zz_inv)\n",
    "    beta = beta.T\n",
    "    # M-step: Sigma_x\n",
    "    prod1 = outer_prod_X - np.dot(sum_exp_xz, Lambda.T) - np.dot(Lambda, sum_exp_zx) + np.dot(np.dot(Lambda, sum_exp_zz), Lambda.T)\n",
    "    prod2 = np.diag(np.diag(prod1))\n",
    "    Sigma_x = (1/n) * prod2\n",
    "    # M-step: sigma_y\n",
    "    sigma_y = (1/n) * (sum_y_squared - 2* np.dot(beta.T, sum_exp_yz) + np.dot(np.dot(beta.T, sum_exp_zz), beta))\n",
    "    \n",
    "    # Calculate Q\n",
    "    log_det_Sigma_x = 0\n",
    "    for l in range(p):\n",
    "        log_det_Sigma_x += np.log(Sigma_x[l,l])\n",
    "    Sigma_x_inv = np.linalg.inv(Sigma_x)\n",
    "    Q = -(n/2) * log_det_Sigma_x - (1/2) * np.trace(np.dot(Sigma_x_inv, prod1)) - (n/2)* np.log(sigma_y) - (1/2) * n * sigma_y - (1/2) * np.trace(sum_exp_zz)\n",
    "    print(Q)\n",
    "    diff = abs(Q-Q_old)\n",
    "    \n",
    "theta = [None] * 4\n",
    "theta[0] = Lambda\n",
    "theta[1] = beta\n",
    "theta[2] = Sigma_x\n",
    "theta[3] = sigma_y "
   ]
  },
  {
   "cell_type": "code",
   "execution_count": 7,
   "metadata": {},
   "outputs": [],
   "source": [
    "# note: singular matrix due to zero diagonal elements in the matrix Sigma_x \n",
    "# -> hence inversion is impossible"
   ]
  },
  {
   "cell_type": "code",
   "execution_count": null,
   "metadata": {},
   "outputs": [],
   "source": [
    "# Habib's derivation of the EM algorithm "
   ]
  },
  {
   "cell_type": "code",
   "execution_count": 82,
   "metadata": {},
   "outputs": [
    {
     "name": "stdout",
     "output_type": "stream",
     "text": [
      "1\n"
     ]
    },
    {
     "name": "stderr",
     "output_type": "stream",
     "text": [
      "/Users/annamenacher/anaconda3/lib/python3.7/site-packages/ipykernel_launcher.py:46: RuntimeWarning: divide by zero encountered in log\n"
     ]
    },
    {
     "ename": "LinAlgError",
     "evalue": "Singular matrix",
     "output_type": "error",
     "traceback": [
      "\u001b[0;31m---------------------------------------------------------------------------\u001b[0m",
      "\u001b[0;31mLinAlgError\u001b[0m                               Traceback (most recent call last)",
      "\u001b[0;32m<ipython-input-82-e7c0ff47a816>\u001b[0m in \u001b[0;36m<module>\u001b[0;34m\u001b[0m\n\u001b[1;32m     45\u001b[0m     \u001b[0;32mfor\u001b[0m \u001b[0ml\u001b[0m \u001b[0;32min\u001b[0m \u001b[0mrange\u001b[0m\u001b[0;34m(\u001b[0m\u001b[0mp\u001b[0m\u001b[0;34m)\u001b[0m\u001b[0;34m:\u001b[0m\u001b[0;34m\u001b[0m\u001b[0;34m\u001b[0m\u001b[0m\n\u001b[1;32m     46\u001b[0m         \u001b[0mlog_det_Sigma_x\u001b[0m \u001b[0;34m+=\u001b[0m \u001b[0mnp\u001b[0m\u001b[0;34m.\u001b[0m\u001b[0mlog\u001b[0m\u001b[0;34m(\u001b[0m\u001b[0mSigma_x\u001b[0m\u001b[0;34m[\u001b[0m\u001b[0ml\u001b[0m\u001b[0;34m,\u001b[0m\u001b[0ml\u001b[0m\u001b[0;34m]\u001b[0m\u001b[0;34m)\u001b[0m\u001b[0;34m\u001b[0m\u001b[0;34m\u001b[0m\u001b[0m\n\u001b[0;32m---> 47\u001b[0;31m     \u001b[0mSigma_x_inv\u001b[0m \u001b[0;34m=\u001b[0m \u001b[0mnp\u001b[0m\u001b[0;34m.\u001b[0m\u001b[0mlinalg\u001b[0m\u001b[0;34m.\u001b[0m\u001b[0minv\u001b[0m\u001b[0;34m(\u001b[0m\u001b[0mSigma_x\u001b[0m\u001b[0;34m)\u001b[0m\u001b[0;34m\u001b[0m\u001b[0;34m\u001b[0m\u001b[0m\n\u001b[0m\u001b[1;32m     48\u001b[0m     \u001b[0mQ\u001b[0m \u001b[0;34m=\u001b[0m \u001b[0;34m-\u001b[0m\u001b[0;34m(\u001b[0m\u001b[0mn\u001b[0m\u001b[0;34m/\u001b[0m\u001b[0;36m2\u001b[0m\u001b[0;34m)\u001b[0m \u001b[0;34m*\u001b[0m \u001b[0mlog_det_Sigma_x\u001b[0m \u001b[0;34m-\u001b[0m \u001b[0;34m(\u001b[0m\u001b[0;36m1\u001b[0m\u001b[0;34m/\u001b[0m\u001b[0;36m2\u001b[0m\u001b[0;34m)\u001b[0m \u001b[0;34m*\u001b[0m \u001b[0mnp\u001b[0m\u001b[0;34m.\u001b[0m\u001b[0mtrace\u001b[0m\u001b[0;34m(\u001b[0m\u001b[0mnp\u001b[0m\u001b[0;34m.\u001b[0m\u001b[0mdot\u001b[0m\u001b[0;34m(\u001b[0m\u001b[0mSigma_x_inv\u001b[0m\u001b[0;34m,\u001b[0m \u001b[0mprod1\u001b[0m\u001b[0;34m)\u001b[0m\u001b[0;34m)\u001b[0m \u001b[0;34m-\u001b[0m \u001b[0;34m(\u001b[0m\u001b[0mn\u001b[0m\u001b[0;34m/\u001b[0m\u001b[0;36m2\u001b[0m\u001b[0;34m)\u001b[0m\u001b[0;34m*\u001b[0m \u001b[0mnp\u001b[0m\u001b[0;34m.\u001b[0m\u001b[0mlog\u001b[0m\u001b[0;34m(\u001b[0m\u001b[0msigma_y\u001b[0m\u001b[0;34m)\u001b[0m \u001b[0;34m-\u001b[0m \u001b[0;34m(\u001b[0m\u001b[0;36m1\u001b[0m\u001b[0;34m/\u001b[0m\u001b[0;36m2\u001b[0m\u001b[0;34m)\u001b[0m \u001b[0;34m*\u001b[0m \u001b[0mn\u001b[0m \u001b[0;34m*\u001b[0m \u001b[0msigma_y\u001b[0m \u001b[0;34m-\u001b[0m \u001b[0;34m(\u001b[0m\u001b[0;36m1\u001b[0m\u001b[0;34m/\u001b[0m\u001b[0;36m2\u001b[0m\u001b[0;34m)\u001b[0m \u001b[0;34m*\u001b[0m \u001b[0mnp\u001b[0m\u001b[0;34m.\u001b[0m\u001b[0mtrace\u001b[0m\u001b[0;34m(\u001b[0m\u001b[0mvar_z\u001b[0m\u001b[0;34m)\u001b[0m\u001b[0;34m\u001b[0m\u001b[0;34m\u001b[0m\u001b[0m\n\u001b[1;32m     49\u001b[0m     \u001b[0mprint\u001b[0m\u001b[0;34m(\u001b[0m\u001b[0mQ\u001b[0m\u001b[0;34m)\u001b[0m\u001b[0;34m\u001b[0m\u001b[0;34m\u001b[0m\u001b[0m\n",
      "\u001b[0;32m<__array_function__ internals>\u001b[0m in \u001b[0;36minv\u001b[0;34m(*args, **kwargs)\u001b[0m\n",
      "\u001b[0;32m~/anaconda3/lib/python3.7/site-packages/numpy/linalg/linalg.py\u001b[0m in \u001b[0;36minv\u001b[0;34m(a)\u001b[0m\n\u001b[1;32m    545\u001b[0m     \u001b[0msignature\u001b[0m \u001b[0;34m=\u001b[0m \u001b[0;34m'D->D'\u001b[0m \u001b[0;32mif\u001b[0m \u001b[0misComplexType\u001b[0m\u001b[0;34m(\u001b[0m\u001b[0mt\u001b[0m\u001b[0;34m)\u001b[0m \u001b[0;32melse\u001b[0m \u001b[0;34m'd->d'\u001b[0m\u001b[0;34m\u001b[0m\u001b[0;34m\u001b[0m\u001b[0m\n\u001b[1;32m    546\u001b[0m     \u001b[0mextobj\u001b[0m \u001b[0;34m=\u001b[0m \u001b[0mget_linalg_error_extobj\u001b[0m\u001b[0;34m(\u001b[0m\u001b[0m_raise_linalgerror_singular\u001b[0m\u001b[0;34m)\u001b[0m\u001b[0;34m\u001b[0m\u001b[0;34m\u001b[0m\u001b[0m\n\u001b[0;32m--> 547\u001b[0;31m     \u001b[0mainv\u001b[0m \u001b[0;34m=\u001b[0m \u001b[0m_umath_linalg\u001b[0m\u001b[0;34m.\u001b[0m\u001b[0minv\u001b[0m\u001b[0;34m(\u001b[0m\u001b[0ma\u001b[0m\u001b[0;34m,\u001b[0m \u001b[0msignature\u001b[0m\u001b[0;34m=\u001b[0m\u001b[0msignature\u001b[0m\u001b[0;34m,\u001b[0m \u001b[0mextobj\u001b[0m\u001b[0;34m=\u001b[0m\u001b[0mextobj\u001b[0m\u001b[0;34m)\u001b[0m\u001b[0;34m\u001b[0m\u001b[0;34m\u001b[0m\u001b[0m\n\u001b[0m\u001b[1;32m    548\u001b[0m     \u001b[0;32mreturn\u001b[0m \u001b[0mwrap\u001b[0m\u001b[0;34m(\u001b[0m\u001b[0mainv\u001b[0m\u001b[0;34m.\u001b[0m\u001b[0mastype\u001b[0m\u001b[0;34m(\u001b[0m\u001b[0mresult_t\u001b[0m\u001b[0;34m,\u001b[0m \u001b[0mcopy\u001b[0m\u001b[0;34m=\u001b[0m\u001b[0;32mFalse\u001b[0m\u001b[0;34m)\u001b[0m\u001b[0;34m)\u001b[0m\u001b[0;34m\u001b[0m\u001b[0;34m\u001b[0m\u001b[0m\n\u001b[1;32m    549\u001b[0m \u001b[0;34m\u001b[0m\u001b[0m\n",
      "\u001b[0;32m~/anaconda3/lib/python3.7/site-packages/numpy/linalg/linalg.py\u001b[0m in \u001b[0;36m_raise_linalgerror_singular\u001b[0;34m(err, flag)\u001b[0m\n\u001b[1;32m     95\u001b[0m \u001b[0;34m\u001b[0m\u001b[0m\n\u001b[1;32m     96\u001b[0m \u001b[0;32mdef\u001b[0m \u001b[0m_raise_linalgerror_singular\u001b[0m\u001b[0;34m(\u001b[0m\u001b[0merr\u001b[0m\u001b[0;34m,\u001b[0m \u001b[0mflag\u001b[0m\u001b[0;34m)\u001b[0m\u001b[0;34m:\u001b[0m\u001b[0;34m\u001b[0m\u001b[0;34m\u001b[0m\u001b[0m\n\u001b[0;32m---> 97\u001b[0;31m     \u001b[0;32mraise\u001b[0m \u001b[0mLinAlgError\u001b[0m\u001b[0;34m(\u001b[0m\u001b[0;34m\"Singular matrix\"\u001b[0m\u001b[0;34m)\u001b[0m\u001b[0;34m\u001b[0m\u001b[0;34m\u001b[0m\u001b[0m\n\u001b[0m\u001b[1;32m     98\u001b[0m \u001b[0;34m\u001b[0m\u001b[0m\n\u001b[1;32m     99\u001b[0m \u001b[0;32mdef\u001b[0m \u001b[0m_raise_linalgerror_nonposdef\u001b[0m\u001b[0;34m(\u001b[0m\u001b[0merr\u001b[0m\u001b[0;34m,\u001b[0m \u001b[0mflag\u001b[0m\u001b[0;34m)\u001b[0m\u001b[0;34m:\u001b[0m\u001b[0;34m\u001b[0m\u001b[0;34m\u001b[0m\u001b[0m\n",
      "\u001b[0;31mLinAlgError\u001b[0m: Singular matrix"
     ]
    }
   ],
   "source": [
    "# EM-Algorithm \n",
    "num_iter = 0\n",
    "diff = 1000\n",
    "Lambda = theta0[0]\n",
    "beta = theta0[1]\n",
    "Sigma_x = theta0[2]\n",
    "sigma_y = theta0[3]\n",
    "Q = 0\n",
    "\n",
    "while diff>eps:\n",
    "    \n",
    "    num_iter = num_iter + 1\n",
    "    print(num_iter)\n",
    "    Lambda_old = Lambda\n",
    "    beta_old = beta\n",
    "    Sigma_x_old = Sigma_x\n",
    "    sigma_y_old = sigma_y\n",
    "    Q_old = Q\n",
    "    \n",
    "    var_z = np.linalg.inv(np.diag(np.ones(k)) - np.dot(beta_old, beta_old.T) * (1/sigma_y_old) - \\\n",
    "                          np.dot(np.dot(Lambda_old.T, np.linalg.inv(Sigma_x_old)), Lambda_old))\n",
    "                                 \n",
    "    exp_z = np.empty((n,k))\n",
    "    for i in range(n):\n",
    "        exp_z2 = np.dot(var_z, (np.dot(np.dot(Lambda_old.T, np.linalg.inv(Sigma_x_old)), X[i,].reshape(p,1)) +\\\n",
    "                                   np.dot(beta_old,y[i,].reshape(1,1)).reshape(k,1)))\n",
    "        exp_z[i,] = exp_z2.T\n",
    "    \n",
    "    # Pre-computed quantities \n",
    "    exp_zz_inv = np.linalg.inv(var_z)\n",
    "    # M-step: Lambda\n",
    "    Lambda = np.dot(exp_zz_inv,np.dot(exp_z.T, X)).T\n",
    "    # M-step: beta \n",
    "    beta = np.dot(exp_zz_inv, np.dot(exp_z.T, y))\n",
    "    #beta = beta.T\n",
    "    # M-step: Sigma_x\n",
    "    prod1 = outer_prod_X - np.dot(np.dot(X.T,exp_z), Lambda.T) - np.dot(Lambda, np.dot(exp_z.T,X)) + np.dot(np.dot(Lambda, (var_z)), Lambda.T)\n",
    "    prod2 = np.diag(np.diag(prod1))\n",
    "    Sigma_x = (1/n) * prod2\n",
    "    # M-step: sigma_y\n",
    "    sigma_y = (1/n) * (sum_y_squared - 2* np.dot(beta.T, np.dot(exp_z.T,y)) + np.dot(np.dot(beta.T, (var_z)), beta))\n",
    "    \n",
    "    # Calculate Q\n",
    "    log_det_Sigma_x = 0\n",
    "    for l in range(p):\n",
    "        log_det_Sigma_x += np.log(Sigma_x[l,l])\n",
    "    Sigma_x_inv = np.linalg.inv(Sigma_x)\n",
    "    Q = -(n/2) * log_det_Sigma_x - (1/2) * np.trace(np.dot(Sigma_x_inv, prod1)) - (n/2)* np.log(sigma_y) - (1/2) * n * sigma_y - (1/2) * np.trace(var_z)\n",
    "    print(Q)\n",
    "    diff = abs(Q-Q_old)\n",
    "    \n",
    "theta = [None] * 4\n",
    "theta[0] = Lambda\n",
    "theta[1] = beta\n",
    "theta[2] = Sigma_x\n",
    "theta[3] = sigma_y "
   ]
  },
  {
   "cell_type": "code",
   "execution_count": 83,
   "metadata": {},
   "outputs": [
    {
     "data": {
      "text/plain": [
       "1795"
      ]
     },
     "execution_count": 83,
     "metadata": {},
     "output_type": "execute_result"
    }
   ],
   "source": [
    "np.count_nonzero(np.diag(Sigma_x))"
   ]
  },
  {
   "cell_type": "code",
   "execution_count": 87,
   "metadata": {},
   "outputs": [
    {
     "data": {
      "text/plain": [
       "array([[99.19148634,  0.        ,  0.        , ...,  0.        ,\n",
       "         0.        ,  0.        ],\n",
       "       [ 0.        , 69.32649681,  0.        , ...,  0.        ,\n",
       "         0.        ,  0.        ],\n",
       "       [ 0.        ,  0.        , 84.83311083, ...,  0.        ,\n",
       "         0.        ,  0.        ],\n",
       "       ...,\n",
       "       [ 0.        ,  0.        ,  0.        , ..., 97.93850958,\n",
       "         0.        ,  0.        ],\n",
       "       [ 0.        ,  0.        ,  0.        , ...,  0.        ,\n",
       "        57.50898721,  0.        ],\n",
       "       [ 0.        ,  0.        ,  0.        , ...,  0.        ,\n",
       "         0.        , 21.96922762]])"
      ]
     },
     "execution_count": 87,
     "metadata": {},
     "output_type": "execute_result"
    }
   ],
   "source": [
    "Sigma_x"
   ]
  },
  {
   "cell_type": "code",
   "execution_count": null,
   "metadata": {},
   "outputs": [],
   "source": []
  }
 ],
 "metadata": {
  "kernelspec": {
   "display_name": "Python 3",
   "language": "python",
   "name": "python3"
  },
  "language_info": {
   "codemirror_mode": {
    "name": "ipython",
    "version": 3
   },
   "file_extension": ".py",
   "mimetype": "text/x-python",
   "name": "python",
   "nbconvert_exporter": "python",
   "pygments_lexer": "ipython3",
   "version": "3.7.6"
  }
 },
 "nbformat": 4,
 "nbformat_minor": 4
}
